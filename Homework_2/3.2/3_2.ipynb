{
  "nbformat": 4,
  "nbformat_minor": 0,
  "metadata": {
    "colab": {
      "provenance": []
    },
    "kernelspec": {
      "name": "python3",
      "display_name": "Python 3"
    },
    "language_info": {
      "name": "python"
    }
  },
  "cells": [
    {
      "cell_type": "code",
      "execution_count": 14,
      "metadata": {
        "colab": {
          "base_uri": "https://localhost:8080/",
          "height": 388
        },
        "id": "Ne_FgOdWy03u",
        "outputId": "a020b4d3-3992-401a-ed46-41eba09d510c"
      },
      "outputs": [
        {
          "output_type": "stream",
          "name": "stdout",
          "text": [
            "Requirement already satisfied: scikit-learn in /usr/local/lib/python3.11/dist-packages (1.6.1)\n",
            "Requirement already satisfied: pandas in /usr/local/lib/python3.11/dist-packages (2.2.2)\n",
            "Requirement already satisfied: numpy in /usr/local/lib/python3.11/dist-packages (2.0.2)\n",
            "Requirement already satisfied: scipy>=1.6.0 in /usr/local/lib/python3.11/dist-packages (from scikit-learn) (1.14.1)\n",
            "Requirement already satisfied: joblib>=1.2.0 in /usr/local/lib/python3.11/dist-packages (from scikit-learn) (1.4.2)\n",
            "Requirement already satisfied: threadpoolctl>=3.1.0 in /usr/local/lib/python3.11/dist-packages (from scikit-learn) (3.6.0)\n",
            "Requirement already satisfied: python-dateutil>=2.8.2 in /usr/local/lib/python3.11/dist-packages (from pandas) (2.8.2)\n",
            "Requirement already satisfied: pytz>=2020.1 in /usr/local/lib/python3.11/dist-packages (from pandas) (2025.2)\n",
            "Requirement already satisfied: tzdata>=2022.7 in /usr/local/lib/python3.11/dist-packages (from pandas) (2025.2)\n",
            "Requirement already satisfied: six>=1.5 in /usr/local/lib/python3.11/dist-packages (from python-dateutil>=2.8.2->pandas) (1.17.0)\n",
            "Data loaded successfully from: /content/red_wine.csv\n",
            "10-Fold Cross-Validation Results:\n",
            "                          AUC  Accuracy\n",
            "Baseline             0.500000  0.528887\n",
            "Logistic Regression  0.879902  0.784785\n",
            "Naive Bayes          0.895408  0.821627\n",
            "Decision Tree        0.753474  0.760284\n",
            "SVM-Linear           0.881489  0.793587\n",
            "SVM-RBF              0.868920  0.535844\n",
            "Random Forest        0.892384  0.786540\n"
          ]
        },
        {
          "output_type": "display_data",
          "data": {
            "text/plain": [
              "<IPython.core.display.Javascript object>"
            ],
            "application/javascript": [
              "\n",
              "    async function download(id, filename, size) {\n",
              "      if (!google.colab.kernel.accessAllowed) {\n",
              "        return;\n",
              "      }\n",
              "      const div = document.createElement('div');\n",
              "      const label = document.createElement('label');\n",
              "      label.textContent = `Downloading \"${filename}\": `;\n",
              "      div.appendChild(label);\n",
              "      const progress = document.createElement('progress');\n",
              "      progress.max = size;\n",
              "      div.appendChild(progress);\n",
              "      document.body.appendChild(div);\n",
              "\n",
              "      const buffers = [];\n",
              "      let downloaded = 0;\n",
              "\n",
              "      const channel = await google.colab.kernel.comms.open(id);\n",
              "      // Send a message to notify the kernel that we're ready.\n",
              "      channel.send({})\n",
              "\n",
              "      for await (const message of channel.messages) {\n",
              "        // Send a message to notify the kernel that we're ready.\n",
              "        channel.send({})\n",
              "        if (message.buffers) {\n",
              "          for (const buffer of message.buffers) {\n",
              "            buffers.push(buffer);\n",
              "            downloaded += buffer.byteLength;\n",
              "            progress.value = downloaded;\n",
              "          }\n",
              "        }\n",
              "      }\n",
              "      const blob = new Blob(buffers, {type: 'application/binary'});\n",
              "      const a = document.createElement('a');\n",
              "      a.href = window.URL.createObjectURL(blob);\n",
              "      a.download = filename;\n",
              "      div.appendChild(a);\n",
              "      a.click();\n",
              "      div.remove();\n",
              "    }\n",
              "  "
            ]
          },
          "metadata": {}
        },
        {
          "output_type": "display_data",
          "data": {
            "text/plain": [
              "<IPython.core.display.Javascript object>"
            ],
            "application/javascript": [
              "download(\"download_5337267f-24a5-43cf-9345-01146ef27802\", \"model_results.csv\", 352)"
            ]
          },
          "metadata": {}
        }
      ],
      "source": [
        "# Install required libraries\n",
        "!pip install scikit-learn pandas numpy\n",
        "\n",
        "# Import libraries\n",
        "import pandas as pd\n",
        "import numpy as np\n",
        "from sklearn.model_selection import cross_val_score\n",
        "from sklearn.dummy import DummyClassifier\n",
        "from sklearn.linear_model import LogisticRegression\n",
        "from sklearn.naive_bayes import GaussianNB\n",
        "from sklearn.tree import DecisionTreeClassifier\n",
        "from sklearn.svm import SVC\n",
        "from sklearn.ensemble import RandomForestClassifier\n",
        "from google.colab import files\n",
        "\n",
        "# Load the dataset from the root directory in Colab\n",
        "file_path = \"/content/red_wine.csv\"  # Path where the file is located\n",
        "\n",
        "try:\n",
        "    red_wine = pd.read_csv(file_path)\n",
        "    print(\"Data loaded successfully from:\", file_path)\n",
        "except FileNotFoundError:\n",
        "    print(f\"Error: File not found at {file_path}. Please check the path.\")\n",
        "    raise\n",
        "except Exception as e:\n",
        "    print(f\"Error loading data: {e}\")\n",
        "    raise\n",
        "\n",
        "# Prepare features (X) and target (y)\n",
        "X = red_wine[['citric acid', 'sulphates', 'alcohol']]\n",
        "y = red_wine['type'].map({'low': 0, 'high': 1})  # Convert to binary (0 = low, 1 = high)\n",
        "\n",
        "# Define models with default parameters\n",
        "models = {\n",
        "    'Baseline': DummyClassifier(strategy='most_frequent'),  # Predicts majority class\n",
        "    'Logistic Regression': LogisticRegression(),\n",
        "    'Naive Bayes': GaussianNB(),\n",
        "    'Decision Tree': DecisionTreeClassifier(),\n",
        "    'SVM-Linear': SVC(kernel='linear', probability=True),\n",
        "    'SVM-RBF': SVC(kernel='rbf', probability=True),\n",
        "    'Random Forest': RandomForestClassifier()\n",
        "}\n",
        "\n",
        "# Perform 10-fold cross-validation and store results\n",
        "results = {}\n",
        "for name, model in models.items():\n",
        "    # AUC scores\n",
        "    auc_scores = cross_val_score(model, X, y, cv=10, scoring='roc_auc')\n",
        "    # Accuracy scores\n",
        "    acc_scores = cross_val_score(model, X, y, cv=10, scoring='accuracy')\n",
        "    # Store mean scores\n",
        "    results[name] = {\n",
        "        'AUC': np.mean(auc_scores),\n",
        "        'Accuracy': np.mean(acc_scores)\n",
        "    }\n",
        "\n",
        "# Create results table\n",
        "results_df = pd.DataFrame(results).T\n",
        "results_df = results_df[['AUC', 'Accuracy']]  # Ensure column order\n",
        "print(\"10-Fold Cross-Validation Results:\")\n",
        "print(results_df)\n",
        "\n",
        "# Save results to CSV (optional, for reference)\n",
        "results_df.to_csv('model_results.csv')\n",
        "files.download('model_results.csv')"
      ]
    },
    {
      "cell_type": "code",
      "source": [],
      "metadata": {
        "id": "zvhePAuRL6Qh"
      },
      "execution_count": null,
      "outputs": []
    }
  ]
}