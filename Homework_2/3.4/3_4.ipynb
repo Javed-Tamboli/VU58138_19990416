{
  "nbformat": 4,
  "nbformat_minor": 0,
  "metadata": {
    "colab": {
      "provenance": []
    },
    "kernelspec": {
      "name": "python3",
      "display_name": "Python 3"
    },
    "language_info": {
      "name": "python"
    }
  },
  "cells": [
    {
      "cell_type": "code",
      "source": [
        "# Import required libraries\n",
        "import pandas as pd\n",
        "from sklearn.ensemble import RandomForestClassifier\n",
        "from sklearn.metrics import roc_auc_score, accuracy_score\n",
        "\n",
        "# Load red-wine.csv (already in /content/)\n",
        "red_wine_path = \"/content/red_wine.csv\"\n",
        "try:\n",
        "    red_wine = pd.read_csv(red_wine_path)\n",
        "    print(\"Red wine data loaded successfully from:\", red_wine_path)\n",
        "except FileNotFoundError:\n",
        "    print(f\"Error: File not found at {red_wine_path}. Please check the path.\")\n",
        "    raise\n",
        "\n",
        "# Prepare red-wine data\n",
        "X_red = red_wine[['citric acid', 'sulphates', 'alcohol']]\n",
        "y_red = red_wine['type'].map({'low': 0, 'high': 1})\n",
        "\n",
        "# Load white-wine.csv (already in /content/)\n",
        "white_wine_path = \"/content/white_wine.csv\"  # Matches the underscore filename\n",
        "try:\n",
        "    white_wine = pd.read_csv(white_wine_path)\n",
        "    print(\"White wine data loaded successfully from:\", white_wine_path)\n",
        "except FileNotFoundError:\n",
        "    print(f\"Error: File not found at {white_wine_path}. Please check the path.\")\n",
        "    raise\n",
        "\n",
        "# Prepare white-wine data\n",
        "X_white = white_wine[['citric acid', 'sulphates', 'alcohol']]\n",
        "y_white = white_wine['type'].map({'low': 0, 'high': 1})\n",
        "\n",
        "# Train Random Forest on red-wine data\n",
        "rf = RandomForestClassifier(random_state=42)\n",
        "rf.fit(X_red, y_red)\n",
        "\n",
        "# Predict probabilities and labels on white-wine data\n",
        "y_white_prob = rf.predict_proba(X_white)[:, 1]  # Probability of the positive class (1 = high)\n",
        "y_white_pred = rf.predict(X_white)  # Predicted labels\n",
        "\n",
        "# Compute AUC and Accuracy\n",
        "white_auc = roc_auc_score(y_white, y_white_prob)\n",
        "white_accuracy = accuracy_score(y_white, y_white_pred)\n",
        "\n",
        "# Create a small results table\n",
        "results = {\n",
        "    'Metric': ['AUC', 'Accuracy'],\n",
        "    'Value': [white_auc, white_accuracy]\n",
        "}\n",
        "results_df = pd.DataFrame(results)\n",
        "print(\"\\nRandom Forest Performance on white-wine.csv:\")\n",
        "print(results_df)"
      ],
      "metadata": {
        "colab": {
          "base_uri": "https://localhost:8080/"
        },
        "id": "zvhePAuRL6Qh",
        "outputId": "5857cb7c-1bad-4099-86af-b7e0a180fa2a"
      },
      "execution_count": 21,
      "outputs": [
        {
          "output_type": "stream",
          "name": "stdout",
          "text": [
            "Red wine data loaded successfully from: /content/red_wine.csv\n",
            "White wine data loaded successfully from: /content/white_wine.csv\n",
            "\n",
            "Random Forest Performance on white-wine.csv:\n",
            "     Metric     Value\n",
            "0       AUC  0.973963\n",
            "1  Accuracy  0.935897\n"
          ]
        }
      ]
    }
  ]
}